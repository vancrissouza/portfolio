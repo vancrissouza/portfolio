{
 "cells": [
  {
   "cell_type": "markdown",
   "id": "e509a3db",
   "metadata": {},
   "source": [
    "##           CA3 Integrated Assignment"
   ]
  },
  {
   "cell_type": "markdown",
   "id": "57ff8217",
   "metadata": {},
   "source": [
    "### 1.\tIntroduction"
   ]
  },
  {
   "cell_type": "markdown",
   "id": "e133c05c",
   "metadata": {},
   "source": [
    "The auction is a practice to buy or sell that does not involve negotiation between the parties, that is, there is always an auction company that intermediates the negotiation. Then interested parties bid and whoever makes the best offer buys the property, as long as the value reach the seller’s expectation.\n",
    "\n",
    "Frauds can happen in auctions, a very common fraud in auctions is shill bid. They usually have a shill bidding, but that in most cases doesn't win the auction. They use this device to get the attention of a real auction participant to initiate bids and also to increase the value of the property.\n",
    "\n",
    "The dataset that we will use in this study is data from eBay auctions of a popular product.\n"
   ]
  },
  {
   "cell_type": "markdown",
   "id": "61bb7cca",
   "metadata": {},
   "source": [
    "###  2. Methods and Results"
   ]
  },
  {
   "cell_type": "markdown",
   "id": "45fca988",
   "metadata": {},
   "source": [
    "#### 2.1  Business Understanding"
   ]
  },
  {
   "cell_type": "markdown",
   "id": "7d127582",
   "metadata": {},
   "source": [
    "In this present study we want better understand the dataset, check for anomalies and using machine learning Classification model detect possible future shill bidding, then avoid this type of fraud in eBay on-line auction."
   ]
  },
  {
   "cell_type": "markdown",
   "id": "0e3443d3",
   "metadata": {},
   "source": [
    "#### 2.2 Data Understanding"
   ]
  },
  {
   "cell_type": "markdown",
   "id": "c608f253",
   "metadata": {},
   "source": [
    "Data understanding is related to the collection and exploration of the data. This stage is extremely important for familiarization with the data, ensuring reliability, quality and relevance. Once there is an understanding of the data, modeling becomes much easier.\n",
    "\n",
    "It is important to verify if these data have what is needed for the project demands, that is, if they are correct, coherent and cohesive.\n"
   ]
  },
  {
   "cell_type": "markdown",
   "id": "e20a1be6",
   "metadata": {},
   "source": [
    "#####        Characterisation of the data set"
   ]
  },
  {
   "cell_type": "markdown",
   "id": "86858d1c",
   "metadata": {},
   "source": [
    "The first step is the characterisation of the data set, in this step we can verify, the data set size, feature type, number of feature, number of observations, is has missing values and if have duplicate observations.\n",
    "\n",
    "Making a previous analysis of the dataset, I verified that the dataset have 6321 observations and 13 variables, being 1 variable of the object type and 12 variables of the numeric type. There are no missing values and no duplicates observations.\n",
    "\n",
    "All analyzes are presented in the codes below."
   ]
  },
  {
   "cell_type": "code",
   "execution_count": 1,
   "id": "def38b3f",
   "metadata": {},
   "outputs": [],
   "source": [
    "# Importing libraries\n",
    "%matplotlib inline \n",
    "import numpy as np \n",
    "from sklearn.decomposition import PCA\n",
    "import seaborn as sns; \n",
    "import matplotlib.pyplot as plt\n",
    "sns.set()\n",
    "from pathlib import Path \n",
    "import pandas as pd\n",
    "import sklearn.preprocessing as preproc\n",
    "import warnings\n",
    "\n",
    "from sklearn.tree import DecisionTreeClassifier\n",
    "warnings.filterwarnings('ignore')\n",
    "\n",
    "from sklearn.model_selection import train_test_split\n",
    "from sklearn.metrics import accuracy_score, confusion_matrix, recall_score\n",
    "\n",
    "from collections import Counter\n",
    "from sklearn.datasets import make_classification\n",
    "from imblearn.over_sampling import SMOTE \n",
    "from sklearn.model_selection import cross_val_score     \n",
    "from sklearn.metrics import classification_report\n",
    "from sklearn.model_selection import GridSearchCV\n",
    "from sklearn.discriminant_analysis import LinearDiscriminantAnalysis\n",
    "from sklearn.svm import SVC\n",
    "from sklearn.linear_model import LogisticRegression\n",
    "from sklearn.neighbors import KNeighborsClassifier\n",
    "from sklearn.ensemble import RandomForestClassifier\n",
    "from time import time"
   ]
  },
  {
   "cell_type": "code",
   "execution_count": 2,
   "id": "3420d8b7",
   "metadata": {},
   "outputs": [],
   "source": [
    "# Read csv file into a pandas dataframe\n",
    "df = pd.read_csv(\"data/Shill Bidding Dataset.csv\")"
   ]
  },
  {
   "cell_type": "code",
   "execution_count": 3,
   "id": "0507952f",
   "metadata": {},
   "outputs": [
    {
     "data": {
      "text/html": [
       "<div>\n",
       "<style scoped>\n",
       "    .dataframe tbody tr th:only-of-type {\n",
       "        vertical-align: middle;\n",
       "    }\n",
       "\n",
       "    .dataframe tbody tr th {\n",
       "        vertical-align: top;\n",
       "    }\n",
       "\n",
       "    .dataframe thead th {\n",
       "        text-align: right;\n",
       "    }\n",
       "</style>\n",
       "<table border=\"1\" class=\"dataframe\">\n",
       "  <thead>\n",
       "    <tr style=\"text-align: right;\">\n",
       "      <th></th>\n",
       "      <th>Record_ID</th>\n",
       "      <th>Auction_ID</th>\n",
       "      <th>Bidder_ID</th>\n",
       "      <th>Bidder_Tendency</th>\n",
       "      <th>Bidding_Ratio</th>\n",
       "      <th>Successive_Outbidding</th>\n",
       "      <th>Last_Bidding</th>\n",
       "      <th>Auction_Bids</th>\n",
       "      <th>Starting_Price_Average</th>\n",
       "      <th>Early_Bidding</th>\n",
       "      <th>Winning_Ratio</th>\n",
       "      <th>Auction_Duration</th>\n",
       "      <th>Class</th>\n",
       "    </tr>\n",
       "  </thead>\n",
       "  <tbody>\n",
       "    <tr>\n",
       "      <th>0</th>\n",
       "      <td>1</td>\n",
       "      <td>732</td>\n",
       "      <td>_***i</td>\n",
       "      <td>0.200000</td>\n",
       "      <td>0.400000</td>\n",
       "      <td>0.0</td>\n",
       "      <td>0.000028</td>\n",
       "      <td>0.0</td>\n",
       "      <td>0.993593</td>\n",
       "      <td>0.000028</td>\n",
       "      <td>0.666667</td>\n",
       "      <td>5</td>\n",
       "      <td>0</td>\n",
       "    </tr>\n",
       "    <tr>\n",
       "      <th>1</th>\n",
       "      <td>2</td>\n",
       "      <td>732</td>\n",
       "      <td>g***r</td>\n",
       "      <td>0.024390</td>\n",
       "      <td>0.200000</td>\n",
       "      <td>0.0</td>\n",
       "      <td>0.013123</td>\n",
       "      <td>0.0</td>\n",
       "      <td>0.993593</td>\n",
       "      <td>0.013123</td>\n",
       "      <td>0.944444</td>\n",
       "      <td>5</td>\n",
       "      <td>0</td>\n",
       "    </tr>\n",
       "    <tr>\n",
       "      <th>2</th>\n",
       "      <td>3</td>\n",
       "      <td>732</td>\n",
       "      <td>t***p</td>\n",
       "      <td>0.142857</td>\n",
       "      <td>0.200000</td>\n",
       "      <td>0.0</td>\n",
       "      <td>0.003042</td>\n",
       "      <td>0.0</td>\n",
       "      <td>0.993593</td>\n",
       "      <td>0.003042</td>\n",
       "      <td>1.000000</td>\n",
       "      <td>5</td>\n",
       "      <td>0</td>\n",
       "    </tr>\n",
       "    <tr>\n",
       "      <th>3</th>\n",
       "      <td>4</td>\n",
       "      <td>732</td>\n",
       "      <td>7***n</td>\n",
       "      <td>0.100000</td>\n",
       "      <td>0.200000</td>\n",
       "      <td>0.0</td>\n",
       "      <td>0.097477</td>\n",
       "      <td>0.0</td>\n",
       "      <td>0.993593</td>\n",
       "      <td>0.097477</td>\n",
       "      <td>1.000000</td>\n",
       "      <td>5</td>\n",
       "      <td>0</td>\n",
       "    </tr>\n",
       "    <tr>\n",
       "      <th>4</th>\n",
       "      <td>5</td>\n",
       "      <td>900</td>\n",
       "      <td>z***z</td>\n",
       "      <td>0.051282</td>\n",
       "      <td>0.222222</td>\n",
       "      <td>0.0</td>\n",
       "      <td>0.001318</td>\n",
       "      <td>0.0</td>\n",
       "      <td>0.000000</td>\n",
       "      <td>0.001242</td>\n",
       "      <td>0.500000</td>\n",
       "      <td>7</td>\n",
       "      <td>0</td>\n",
       "    </tr>\n",
       "  </tbody>\n",
       "</table>\n",
       "</div>"
      ],
      "text/plain": [
       "   Record_ID  Auction_ID Bidder_ID  Bidder_Tendency  Bidding_Ratio  \\\n",
       "0          1         732     _***i         0.200000       0.400000   \n",
       "1          2         732     g***r         0.024390       0.200000   \n",
       "2          3         732     t***p         0.142857       0.200000   \n",
       "3          4         732     7***n         0.100000       0.200000   \n",
       "4          5         900     z***z         0.051282       0.222222   \n",
       "\n",
       "   Successive_Outbidding  Last_Bidding  Auction_Bids  Starting_Price_Average  \\\n",
       "0                    0.0      0.000028           0.0                0.993593   \n",
       "1                    0.0      0.013123           0.0                0.993593   \n",
       "2                    0.0      0.003042           0.0                0.993593   \n",
       "3                    0.0      0.097477           0.0                0.993593   \n",
       "4                    0.0      0.001318           0.0                0.000000   \n",
       "\n",
       "   Early_Bidding  Winning_Ratio  Auction_Duration  Class  \n",
       "0       0.000028       0.666667                 5      0  \n",
       "1       0.013123       0.944444                 5      0  \n",
       "2       0.003042       1.000000                 5      0  \n",
       "3       0.097477       1.000000                 5      0  \n",
       "4       0.001242       0.500000                 7      0  "
      ]
     },
     "execution_count": 3,
     "metadata": {},
     "output_type": "execute_result"
    }
   ],
   "source": [
    "# Take a look at the first few rows\n",
    "df.head()"
   ]
  },
  {
   "cell_type": "code",
   "execution_count": 4,
   "id": "63b3c5ff",
   "metadata": {},
   "outputs": [
    {
     "name": "stdout",
     "output_type": "stream",
     "text": [
      "<class 'pandas.core.frame.DataFrame'>\n",
      "RangeIndex: 6321 entries, 0 to 6320\n",
      "Data columns (total 13 columns):\n",
      " #   Column                  Non-Null Count  Dtype  \n",
      "---  ------                  --------------  -----  \n",
      " 0   Record_ID               6321 non-null   int64  \n",
      " 1   Auction_ID              6321 non-null   int64  \n",
      " 2   Bidder_ID               6321 non-null   object \n",
      " 3   Bidder_Tendency         6321 non-null   float64\n",
      " 4   Bidding_Ratio           6321 non-null   float64\n",
      " 5   Successive_Outbidding   6321 non-null   float64\n",
      " 6   Last_Bidding            6321 non-null   float64\n",
      " 7   Auction_Bids            6321 non-null   float64\n",
      " 8   Starting_Price_Average  6321 non-null   float64\n",
      " 9   Early_Bidding           6321 non-null   float64\n",
      " 10  Winning_Ratio           6321 non-null   float64\n",
      " 11  Auction_Duration        6321 non-null   int64  \n",
      " 12  Class                   6321 non-null   int64  \n",
      "dtypes: float64(8), int64(4), object(1)\n",
      "memory usage: 642.1+ KB\n"
     ]
    }
   ],
   "source": [
    "# verify information about dataframe - number of columns number of obvervation and type of variables\n",
    "df.info()"
   ]
  },
  {
   "cell_type": "code",
   "execution_count": 5,
   "id": "5a780f1c",
   "metadata": {},
   "outputs": [
    {
     "data": {
      "text/plain": [
       "Record_ID                   int64\n",
       "Auction_ID                  int64\n",
       "Bidder_ID                  object\n",
       "Bidder_Tendency           float64\n",
       "Bidding_Ratio             float64\n",
       "Successive_Outbidding     float64\n",
       "Last_Bidding              float64\n",
       "Auction_Bids              float64\n",
       "Starting_Price_Average    float64\n",
       "Early_Bidding             float64\n",
       "Winning_Ratio             float64\n",
       "Auction_Duration            int64\n",
       "Class                       int64\n",
       "dtype: object"
      ]
     },
     "execution_count": 5,
     "metadata": {},
     "output_type": "execute_result"
    }
   ],
   "source": [
    "# verify the feature type\n",
    "df.dtypes"
   ]
  },
  {
   "cell_type": "code",
   "execution_count": 6,
   "id": "aba6182a",
   "metadata": {},
   "outputs": [
    {
     "data": {
      "text/html": [
       "<div>\n",
       "<style scoped>\n",
       "    .dataframe tbody tr th:only-of-type {\n",
       "        vertical-align: middle;\n",
       "    }\n",
       "\n",
       "    .dataframe tbody tr th {\n",
       "        vertical-align: top;\n",
       "    }\n",
       "\n",
       "    .dataframe thead th {\n",
       "        text-align: right;\n",
       "    }\n",
       "</style>\n",
       "<table border=\"1\" class=\"dataframe\">\n",
       "  <thead>\n",
       "    <tr style=\"text-align: right;\">\n",
       "      <th></th>\n",
       "      <th>Record_ID</th>\n",
       "      <th>Auction_ID</th>\n",
       "      <th>Bidder_ID</th>\n",
       "      <th>Bidder_Tendency</th>\n",
       "      <th>Bidding_Ratio</th>\n",
       "      <th>Successive_Outbidding</th>\n",
       "      <th>Last_Bidding</th>\n",
       "      <th>Auction_Bids</th>\n",
       "      <th>Starting_Price_Average</th>\n",
       "      <th>Early_Bidding</th>\n",
       "      <th>Winning_Ratio</th>\n",
       "      <th>Auction_Duration</th>\n",
       "      <th>Class</th>\n",
       "    </tr>\n",
       "  </thead>\n",
       "  <tbody>\n",
       "    <tr>\n",
       "      <th>6316</th>\n",
       "      <td>15129</td>\n",
       "      <td>760</td>\n",
       "      <td>l***t</td>\n",
       "      <td>0.333333</td>\n",
       "      <td>0.160000</td>\n",
       "      <td>1.0</td>\n",
       "      <td>0.738557</td>\n",
       "      <td>0.280000</td>\n",
       "      <td>0.993593</td>\n",
       "      <td>0.686358</td>\n",
       "      <td>0.888889</td>\n",
       "      <td>3</td>\n",
       "      <td>1</td>\n",
       "    </tr>\n",
       "    <tr>\n",
       "      <th>6317</th>\n",
       "      <td>15137</td>\n",
       "      <td>2481</td>\n",
       "      <td>s***s</td>\n",
       "      <td>0.030612</td>\n",
       "      <td>0.130435</td>\n",
       "      <td>0.0</td>\n",
       "      <td>0.005754</td>\n",
       "      <td>0.217391</td>\n",
       "      <td>0.993593</td>\n",
       "      <td>0.000010</td>\n",
       "      <td>0.878788</td>\n",
       "      <td>7</td>\n",
       "      <td>0</td>\n",
       "    </tr>\n",
       "    <tr>\n",
       "      <th>6318</th>\n",
       "      <td>15138</td>\n",
       "      <td>2481</td>\n",
       "      <td>h***t</td>\n",
       "      <td>0.055556</td>\n",
       "      <td>0.043478</td>\n",
       "      <td>0.0</td>\n",
       "      <td>0.015663</td>\n",
       "      <td>0.217391</td>\n",
       "      <td>0.993593</td>\n",
       "      <td>0.015663</td>\n",
       "      <td>0.000000</td>\n",
       "      <td>7</td>\n",
       "      <td>0</td>\n",
       "    </tr>\n",
       "    <tr>\n",
       "      <th>6319</th>\n",
       "      <td>15139</td>\n",
       "      <td>2481</td>\n",
       "      <td>d***d</td>\n",
       "      <td>0.076923</td>\n",
       "      <td>0.086957</td>\n",
       "      <td>0.0</td>\n",
       "      <td>0.068694</td>\n",
       "      <td>0.217391</td>\n",
       "      <td>0.993593</td>\n",
       "      <td>0.000415</td>\n",
       "      <td>0.000000</td>\n",
       "      <td>7</td>\n",
       "      <td>0</td>\n",
       "    </tr>\n",
       "    <tr>\n",
       "      <th>6320</th>\n",
       "      <td>15144</td>\n",
       "      <td>2481</td>\n",
       "      <td>a***l</td>\n",
       "      <td>0.016393</td>\n",
       "      <td>0.043478</td>\n",
       "      <td>0.0</td>\n",
       "      <td>0.340351</td>\n",
       "      <td>0.217391</td>\n",
       "      <td>0.993593</td>\n",
       "      <td>0.340351</td>\n",
       "      <td>0.000000</td>\n",
       "      <td>7</td>\n",
       "      <td>0</td>\n",
       "    </tr>\n",
       "  </tbody>\n",
       "</table>\n",
       "</div>"
      ],
      "text/plain": [
       "      Record_ID  Auction_ID Bidder_ID  Bidder_Tendency  Bidding_Ratio  \\\n",
       "6316      15129         760     l***t         0.333333       0.160000   \n",
       "6317      15137        2481     s***s         0.030612       0.130435   \n",
       "6318      15138        2481     h***t         0.055556       0.043478   \n",
       "6319      15139        2481     d***d         0.076923       0.086957   \n",
       "6320      15144        2481     a***l         0.016393       0.043478   \n",
       "\n",
       "      Successive_Outbidding  Last_Bidding  Auction_Bids  \\\n",
       "6316                    1.0      0.738557      0.280000   \n",
       "6317                    0.0      0.005754      0.217391   \n",
       "6318                    0.0      0.015663      0.217391   \n",
       "6319                    0.0      0.068694      0.217391   \n",
       "6320                    0.0      0.340351      0.217391   \n",
       "\n",
       "      Starting_Price_Average  Early_Bidding  Winning_Ratio  Auction_Duration  \\\n",
       "6316                0.993593       0.686358       0.888889                 3   \n",
       "6317                0.993593       0.000010       0.878788                 7   \n",
       "6318                0.993593       0.015663       0.000000                 7   \n",
       "6319                0.993593       0.000415       0.000000                 7   \n",
       "6320                0.993593       0.340351       0.000000                 7   \n",
       "\n",
       "      Class  \n",
       "6316      1  \n",
       "6317      0  \n",
       "6318      0  \n",
       "6319      0  \n",
       "6320      0  "
      ]
     },
     "execution_count": 6,
     "metadata": {},
     "output_type": "execute_result"
    }
   ],
   "source": [
    "# Take a look at the last few rows\n",
    "df.tail()"
   ]
  },
  {
   "cell_type": "code",
   "execution_count": 7,
   "id": "f1720d84",
   "metadata": {},
   "outputs": [
    {
     "data": {
      "text/plain": [
       "(6321, 13)"
      ]
     },
     "execution_count": 7,
     "metadata": {},
     "output_type": "execute_result"
    }
   ],
   "source": [
    "df.shape"
   ]
  },
  {
   "cell_type": "code",
   "execution_count": 8,
   "id": "20304d17",
   "metadata": {},
   "outputs": [
    {
     "data": {
      "text/plain": [
       "False"
      ]
     },
     "execution_count": 8,
     "metadata": {},
     "output_type": "execute_result"
    }
   ],
   "source": [
    "df.isnull().values.any()"
   ]
  },
  {
   "cell_type": "code",
   "execution_count": 9,
   "id": "6eacda23",
   "metadata": {},
   "outputs": [
    {
     "name": "stdout",
     "output_type": "stream",
     "text": [
      "number of duplicate rows: (0, 13)\n"
     ]
    }
   ],
   "source": [
    "# verify if the data set have duplicate rows\n",
    "duplicate_rows_df = df[df.duplicated()]\n",
    "print(\"number of duplicate rows:\", duplicate_rows_df.shape)"
   ]
  },
  {
   "cell_type": "markdown",
   "id": "f387998c",
   "metadata": {},
   "source": [
    "#####  Exploratory Data Analysis"
   ]
  },
  {
   "cell_type": "markdown",
   "id": "54057fc9",
   "metadata": {},
   "source": [
    "Exploratory Data Analysis (EDA) is used to analyse and investigate datasets and summarize \n",
    "their key characteristics, often using data visualization methods. It allows you to define the \n",
    "best way to control data sources to get the answers you need, making it easier to discover \n",
    "patterns, detect anomalies. \n",
    "\n",
    "EDA is used to provide a better understanding of variables in the dataset and relationships \n",
    "between them.\n",
    "\n",
    "We use EDA to ensure that the results produced are valid and applicable to any desired business outcomes and goals. Once the EDA is complete and the insights are defined, its capabilities can then be used for preparing the dataset for modelling or analysis.\n",
    "\n",
    "Through summary statistics analysis, we were able to notice that the most of features are number between 0 and one because they present the minimum 0 and maximum 1. The feature Auction_Duration presents discrete values between 1 and 10, because the minimum value is 1 and the maximum value is 10.\n",
    "\n",
    "With the histogram we can verify the behavior of the data in each feature, that is, we can verify the distribution of the data in each featureData preparation. In this study we can verify that the feature with values between 0 and 1, they present more values close to zero than close to 1.\n",
    "\n",
    "The values in the features Record_ID and Auction_ID presents values distributed almost equally because they are feature to identify the record and the auction, then each observation have different values, it means that they are distributed equally.\n",
    "\n",
    "The box plot provides information about the following characteristics of the dataset like dispersion, skewness, tail length and outliers. In this study we are using the box plot to identify if the features have outliers. It is very important to identify outliers because, in order, to proceed with the analysis, we need to verify if it is an error, if this information is important for the result, and then make the decision to remove or treat it and then proceed with the analysis.\n",
    "\n",
    "We can verify that the features Bidder_Tendency, Successive_Outbidding and Bidding_Ratio have outliers. The feature Successive_Outbidding have just 3 values, 0, 0.5 and 1, and the most of values are 0, because of this the box plot considers 0.5 and 1 outliers, so we cannot delete these observations.\n",
    "\n",
    "The are no missing values in this dataset.\n",
    "\n",
    "The feature class that is our dependent variable is a feature that classify the bidding where 0 is normal behavior bidding and 1 is abnormal behavior bidding. In a exploratory analysis we can verify that is a imbalanced dataset where the proportion of 0 is higher than proportion of 1.\n",
    "\n",
    "All analyzes are presented in the codes below."
   ]
  },
  {
   "cell_type": "code",
   "execution_count": 10,
   "id": "2e7b2a03",
   "metadata": {},
   "outputs": [
    {
     "data": {
      "text/html": [
       "<div>\n",
       "<style scoped>\n",
       "    .dataframe tbody tr th:only-of-type {\n",
       "        vertical-align: middle;\n",
       "    }\n",
       "\n",
       "    .dataframe tbody tr th {\n",
       "        vertical-align: top;\n",
       "    }\n",
       "\n",
       "    .dataframe thead th {\n",
       "        text-align: right;\n",
       "    }\n",
       "</style>\n",
       "<table border=\"1\" class=\"dataframe\">\n",
       "  <thead>\n",
       "    <tr style=\"text-align: right;\">\n",
       "      <th></th>\n",
       "      <th>Record_ID</th>\n",
       "      <th>Auction_ID</th>\n",
       "      <th>Bidder_Tendency</th>\n",
       "      <th>Bidding_Ratio</th>\n",
       "      <th>Successive_Outbidding</th>\n",
       "      <th>Last_Bidding</th>\n",
       "      <th>Auction_Bids</th>\n",
       "      <th>Starting_Price_Average</th>\n",
       "      <th>Early_Bidding</th>\n",
       "      <th>Winning_Ratio</th>\n",
       "      <th>Auction_Duration</th>\n",
       "      <th>Class</th>\n",
       "    </tr>\n",
       "  </thead>\n",
       "  <tbody>\n",
       "    <tr>\n",
       "      <th>count</th>\n",
       "      <td>6321.000000</td>\n",
       "      <td>6321.000000</td>\n",
       "      <td>6321.000000</td>\n",
       "      <td>6321.000000</td>\n",
       "      <td>6321.000000</td>\n",
       "      <td>6321.000000</td>\n",
       "      <td>6321.000000</td>\n",
       "      <td>6321.000000</td>\n",
       "      <td>6321.000000</td>\n",
       "      <td>6321.000000</td>\n",
       "      <td>6321.000000</td>\n",
       "      <td>6321.000000</td>\n",
       "    </tr>\n",
       "    <tr>\n",
       "      <th>mean</th>\n",
       "      <td>7535.829457</td>\n",
       "      <td>1241.388230</td>\n",
       "      <td>0.142541</td>\n",
       "      <td>0.127670</td>\n",
       "      <td>0.103781</td>\n",
       "      <td>0.463119</td>\n",
       "      <td>0.231606</td>\n",
       "      <td>0.472821</td>\n",
       "      <td>0.430683</td>\n",
       "      <td>0.367731</td>\n",
       "      <td>4.615093</td>\n",
       "      <td>0.106787</td>\n",
       "    </tr>\n",
       "    <tr>\n",
       "      <th>std</th>\n",
       "      <td>4364.759137</td>\n",
       "      <td>735.770789</td>\n",
       "      <td>0.197084</td>\n",
       "      <td>0.131530</td>\n",
       "      <td>0.279698</td>\n",
       "      <td>0.380097</td>\n",
       "      <td>0.255252</td>\n",
       "      <td>0.489912</td>\n",
       "      <td>0.380785</td>\n",
       "      <td>0.436573</td>\n",
       "      <td>2.466629</td>\n",
       "      <td>0.308867</td>\n",
       "    </tr>\n",
       "    <tr>\n",
       "      <th>min</th>\n",
       "      <td>1.000000</td>\n",
       "      <td>5.000000</td>\n",
       "      <td>0.000000</td>\n",
       "      <td>0.011765</td>\n",
       "      <td>0.000000</td>\n",
       "      <td>0.000000</td>\n",
       "      <td>0.000000</td>\n",
       "      <td>0.000000</td>\n",
       "      <td>0.000000</td>\n",
       "      <td>0.000000</td>\n",
       "      <td>1.000000</td>\n",
       "      <td>0.000000</td>\n",
       "    </tr>\n",
       "    <tr>\n",
       "      <th>25%</th>\n",
       "      <td>3778.000000</td>\n",
       "      <td>589.000000</td>\n",
       "      <td>0.027027</td>\n",
       "      <td>0.043478</td>\n",
       "      <td>0.000000</td>\n",
       "      <td>0.047928</td>\n",
       "      <td>0.000000</td>\n",
       "      <td>0.000000</td>\n",
       "      <td>0.026620</td>\n",
       "      <td>0.000000</td>\n",
       "      <td>3.000000</td>\n",
       "      <td>0.000000</td>\n",
       "    </tr>\n",
       "    <tr>\n",
       "      <th>50%</th>\n",
       "      <td>7591.000000</td>\n",
       "      <td>1246.000000</td>\n",
       "      <td>0.062500</td>\n",
       "      <td>0.083333</td>\n",
       "      <td>0.000000</td>\n",
       "      <td>0.440937</td>\n",
       "      <td>0.142857</td>\n",
       "      <td>0.000000</td>\n",
       "      <td>0.360104</td>\n",
       "      <td>0.000000</td>\n",
       "      <td>5.000000</td>\n",
       "      <td>0.000000</td>\n",
       "    </tr>\n",
       "    <tr>\n",
       "      <th>75%</th>\n",
       "      <td>11277.000000</td>\n",
       "      <td>1867.000000</td>\n",
       "      <td>0.166667</td>\n",
       "      <td>0.166667</td>\n",
       "      <td>0.000000</td>\n",
       "      <td>0.860363</td>\n",
       "      <td>0.454545</td>\n",
       "      <td>0.993593</td>\n",
       "      <td>0.826761</td>\n",
       "      <td>0.851852</td>\n",
       "      <td>7.000000</td>\n",
       "      <td>0.000000</td>\n",
       "    </tr>\n",
       "    <tr>\n",
       "      <th>max</th>\n",
       "      <td>15144.000000</td>\n",
       "      <td>2538.000000</td>\n",
       "      <td>1.000000</td>\n",
       "      <td>1.000000</td>\n",
       "      <td>1.000000</td>\n",
       "      <td>0.999900</td>\n",
       "      <td>0.788235</td>\n",
       "      <td>0.999935</td>\n",
       "      <td>0.999900</td>\n",
       "      <td>1.000000</td>\n",
       "      <td>10.000000</td>\n",
       "      <td>1.000000</td>\n",
       "    </tr>\n",
       "  </tbody>\n",
       "</table>\n",
       "</div>"
      ],
      "text/plain": [
       "          Record_ID   Auction_ID  Bidder_Tendency  Bidding_Ratio  \\\n",
       "count   6321.000000  6321.000000      6321.000000    6321.000000   \n",
       "mean    7535.829457  1241.388230         0.142541       0.127670   \n",
       "std     4364.759137   735.770789         0.197084       0.131530   \n",
       "min        1.000000     5.000000         0.000000       0.011765   \n",
       "25%     3778.000000   589.000000         0.027027       0.043478   \n",
       "50%     7591.000000  1246.000000         0.062500       0.083333   \n",
       "75%    11277.000000  1867.000000         0.166667       0.166667   \n",
       "max    15144.000000  2538.000000         1.000000       1.000000   \n",
       "\n",
       "       Successive_Outbidding  Last_Bidding  Auction_Bids  \\\n",
       "count            6321.000000   6321.000000   6321.000000   \n",
       "mean                0.103781      0.463119      0.231606   \n",
       "std                 0.279698      0.380097      0.255252   \n",
       "min                 0.000000      0.000000      0.000000   \n",
       "25%                 0.000000      0.047928      0.000000   \n",
       "50%                 0.000000      0.440937      0.142857   \n",
       "75%                 0.000000      0.860363      0.454545   \n",
       "max                 1.000000      0.999900      0.788235   \n",
       "\n",
       "       Starting_Price_Average  Early_Bidding  Winning_Ratio  Auction_Duration  \\\n",
       "count             6321.000000    6321.000000    6321.000000       6321.000000   \n",
       "mean                 0.472821       0.430683       0.367731          4.615093   \n",
       "std                  0.489912       0.380785       0.436573          2.466629   \n",
       "min                  0.000000       0.000000       0.000000          1.000000   \n",
       "25%                  0.000000       0.026620       0.000000          3.000000   \n",
       "50%                  0.000000       0.360104       0.000000          5.000000   \n",
       "75%                  0.993593       0.826761       0.851852          7.000000   \n",
       "max                  0.999935       0.999900       1.000000         10.000000   \n",
       "\n",
       "             Class  \n",
       "count  6321.000000  \n",
       "mean      0.106787  \n",
       "std       0.308867  \n",
       "min       0.000000  \n",
       "25%       0.000000  \n",
       "50%       0.000000  \n",
       "75%       0.000000  \n",
       "max       1.000000  "
      ]
     },
     "execution_count": 10,
     "metadata": {},
     "output_type": "execute_result"
    }
   ],
   "source": [
    "# summary statistics analysis\n",
    "\n",
    "df.describe()"
   ]
  },
  {
   "cell_type": "code",
   "execution_count": 11,
   "id": "1e141d24",
   "metadata": {},
   "outputs": [
    {
     "data": {
      "image/png": "[encoded data removed]",
      "text/plain": [
       "<Figure size 1440x1080 with 12 Axes>"
      ]
     },
     "metadata": {},
     "output_type": "display_data"
    }
   ],
   "source": [
    "# histogram to analize the feature distribution\n",
    "df.hist(figsize = (20,15));\n"
   ]
  },
  {
   "cell_type": "code",
   "execution_count": 12,
   "id": "cadf3b3d",
   "metadata": {},
   "outputs": [
    {
     "data": {
      "image/png": "[encoded data removed]",
      "text/plain": [
       "<Figure size 1080x1080 with 9 Axes>"
      ]
     },
     "metadata": {},
     "output_type": "display_data"
    }
   ],
   "source": [
    "#box plot to analyze distribution and outliers\n",
    "sns.set_theme()\n",
    "figure, axis = plt.subplots(3,3, figsize = (15,15))\n",
    "figure.suptitle('Box Plot', fontsize=20)\n",
    "\n",
    "sns.boxplot(x = df['Bidder_Tendency'], ax = axis[0,0])\n",
    "sns.boxplot(x = df['Successive_Outbidding'], ax = axis[0,1])\n",
    "sns.boxplot(x = df['Last_Bidding'], ax = axis[0,2])\n",
    "sns.boxplot(x = df['Auction_Bids'], ax = axis[1,0])\n",
    "\n",
    "sns.boxplot(x = df['Starting_Price_Average'], ax = axis[1,1])\n",
    "sns.boxplot(x = df['Early_Bidding'], ax = axis[1,2])\n",
    "sns.boxplot(x = df['Winning_Ratio'], ax = axis[2,0])\n",
    "sns.boxplot(x = df['Auction_Duration'], ax = axis[2,1])\n",
    "sns.boxplot(x = df['Bidding_Ratio'], ax = axis[2,2])\n",
    "plt.show();\n"
   ]
  },
  {
   "cell_type": "code",
   "execution_count": 13,
   "id": "230cd28f",
   "metadata": {
    "scrolled": true
   },
   "outputs": [
    {
     "data": {
      "text/plain": [
       "Record_ID                 0\n",
       "Auction_ID                0\n",
       "Bidder_ID                 0\n",
       "Bidder_Tendency           0\n",
       "Bidding_Ratio             0\n",
       "Successive_Outbidding     0\n",
       "Last_Bidding              0\n",
       "Auction_Bids              0\n",
       "Starting_Price_Average    0\n",
       "Early_Bidding             0\n",
       "Winning_Ratio             0\n",
       "Auction_Duration          0\n",
       "Class                     0\n",
       "dtype: int64"
      ]
     },
     "execution_count": 13,
     "metadata": {},
     "output_type": "execute_result"
    }
   ],
   "source": [
    "# verify if there is missing values\n",
    "df.isna().sum()"
   ]
  },
  {
   "cell_type": "code",
   "execution_count": 14,
   "id": "c80d7f92",
   "metadata": {},
   "outputs": [
    {
     "data": {
      "text/plain": [
       "0.0    5478\n",
       "1.0     469\n",
       "0.5     374\n",
       "Name: Successive_Outbidding, dtype: int64"
      ]
     },
     "execution_count": 14,
     "metadata": {},
     "output_type": "execute_result"
    }
   ],
   "source": [
    "df['Successive_Outbidding'].value_counts()"
   ]
  },
  {
   "cell_type": "code",
   "execution_count": 15,
   "id": "3b03244f",
   "metadata": {},
   "outputs": [
    {
     "data": {
      "text/plain": [
       "0    5646\n",
       "1     675\n",
       "Name: Class, dtype: int64"
      ]
     },
     "execution_count": 15,
     "metadata": {},
     "output_type": "execute_result"
    }
   ],
   "source": [
    "df[\"Class\"].value_counts()"
   ]
  },
  {
   "cell_type": "code",
   "execution_count": 16,
   "id": "444aa729",
   "metadata": {},
   "outputs": [
    {
     "data": {
      "image/png": "[encoded data removed]",
      "text/plain": [
       "<Figure size 432x288 with 1 Axes>"
      ]
     },
     "metadata": {},
     "output_type": "display_data"
    },
    {
     "name": "stdout",
     "output_type": "stream",
     "text": [
      "None\n",
      "0    5646\n",
      "1     675\n",
      "Name: Class, dtype: int64\n"
     ]
    }
   ],
   "source": [
    "sns.countplot(df['Class']).set_title('Count by Class')\n",
    "print(plt.show())\n",
    "print(df.Class.value_counts())\n"
   ]
  },
  {
   "cell_type": "markdown",
   "id": "573c94b1",
   "metadata": {},
   "source": [
    "##### Cleaning Dataset"
   ]
  },
  {
   "cell_type": "markdown",
   "id": "ba6be741",
   "metadata": {},
   "source": [
    "Cleaning Dataset is a way of cleaning and validating information in the dataset. So they become really actionable and useful for the business. That is because many captured files do not always mean much. To have a good result in our analysis the information in the dataset needs to be of good quality.\n",
    "\n",
    "The dataset used in this study have no missing values, and the outliers will be kept.\n",
    "\n",
    "The features Record_ID, Auction_ID and Bidder_ID are feature to identify the record, auction and bidder then in this study there are not important, so these features will be dropped.\n"
   ]
  },
  {
   "cell_type": "code",
   "execution_count": 17,
   "id": "60bbb47f",
   "metadata": {},
   "outputs": [],
   "source": [
    "df1 = df.drop(columns = ['Record_ID', 'Auction_ID', 'Bidder_ID'])"
   ]
  },
  {
   "cell_type": "code",
   "execution_count": 18,
   "id": "aa7fb7eb",
   "metadata": {},
   "outputs": [
    {
     "data": {
      "image/png": "[encoded data removed]",
      "text/plain": [
       "<Figure size 1440x720 with 2 Axes>"
      ]
     },
     "metadata": {},
     "output_type": "display_data"
    }
   ],
   "source": [
    "# heatmap to analyze correlation between features\n",
    "plt.figure(figsize=(20,10))\n",
    "c= df1.corr()\n",
    "mask = np.triu(np.ones_like(c, dtype=np.bool))\n",
    "\n",
    "heatmap=sns.heatmap(c,cmap=\"BuPu\", mask=mask, vmin=-1, vmax=1, annot=True)\n",
    "# Give a title to the heatmap. Pad defines the distance of the title from the top of the heatmap.\n",
    "heatmap.set_title('Correlation Heatmap', fontdict={'fontsize':12}, pad=12);"
   ]
  },
  {
   "cell_type": "code",
   "execution_count": 19,
   "id": "3d8eb9ea",
   "metadata": {},
   "outputs": [
    {
     "data": {
      "text/html": [
       "<div>\n",
       "<style scoped>\n",
       "    .dataframe tbody tr th:only-of-type {\n",
       "        vertical-align: middle;\n",
       "    }\n",
       "\n",
       "    .dataframe tbody tr th {\n",
       "        vertical-align: top;\n",
       "    }\n",
       "\n",
       "    .dataframe thead th {\n",
       "        text-align: right;\n",
       "    }\n",
       "</style>\n",
       "<table border=\"1\" class=\"dataframe\">\n",
       "  <thead>\n",
       "    <tr style=\"text-align: right;\">\n",
       "      <th></th>\n",
       "      <th>Bidder_Tendency</th>\n",
       "      <th>Bidding_Ratio</th>\n",
       "      <th>Successive_Outbidding</th>\n",
       "      <th>Last_Bidding</th>\n",
       "      <th>Auction_Bids</th>\n",
       "      <th>Starting_Price_Average</th>\n",
       "      <th>Early_Bidding</th>\n",
       "      <th>Winning_Ratio</th>\n",
       "      <th>Auction_Duration</th>\n",
       "      <th>Class</th>\n",
       "    </tr>\n",
       "  </thead>\n",
       "  <tbody>\n",
       "    <tr>\n",
       "      <th>0</th>\n",
       "      <td>0.200000</td>\n",
       "      <td>0.400000</td>\n",
       "      <td>0.0</td>\n",
       "      <td>0.000028</td>\n",
       "      <td>0.0</td>\n",
       "      <td>0.993593</td>\n",
       "      <td>0.000028</td>\n",
       "      <td>0.666667</td>\n",
       "      <td>5</td>\n",
       "      <td>0</td>\n",
       "    </tr>\n",
       "    <tr>\n",
       "      <th>1</th>\n",
       "      <td>0.024390</td>\n",
       "      <td>0.200000</td>\n",
       "      <td>0.0</td>\n",
       "      <td>0.013123</td>\n",
       "      <td>0.0</td>\n",
       "      <td>0.993593</td>\n",
       "      <td>0.013123</td>\n",
       "      <td>0.944444</td>\n",
       "      <td>5</td>\n",
       "      <td>0</td>\n",
       "    </tr>\n",
       "    <tr>\n",
       "      <th>2</th>\n",
       "      <td>0.142857</td>\n",
       "      <td>0.200000</td>\n",
       "      <td>0.0</td>\n",
       "      <td>0.003042</td>\n",
       "      <td>0.0</td>\n",
       "      <td>0.993593</td>\n",
       "      <td>0.003042</td>\n",
       "      <td>1.000000</td>\n",
       "      <td>5</td>\n",
       "      <td>0</td>\n",
       "    </tr>\n",
       "    <tr>\n",
       "      <th>3</th>\n",
       "      <td>0.100000</td>\n",
       "      <td>0.200000</td>\n",
       "      <td>0.0</td>\n",
       "      <td>0.097477</td>\n",
       "      <td>0.0</td>\n",
       "      <td>0.993593</td>\n",
       "      <td>0.097477</td>\n",
       "      <td>1.000000</td>\n",
       "      <td>5</td>\n",
       "      <td>0</td>\n",
       "    </tr>\n",
       "    <tr>\n",
       "      <th>4</th>\n",
       "      <td>0.051282</td>\n",
       "      <td>0.222222</td>\n",
       "      <td>0.0</td>\n",
       "      <td>0.001318</td>\n",
       "      <td>0.0</td>\n",
       "      <td>0.000000</td>\n",
       "      <td>0.001242</td>\n",
       "      <td>0.500000</td>\n",
       "      <td>7</td>\n",
       "      <td>0</td>\n",
       "    </tr>\n",
       "  </tbody>\n",
       "</table>\n",
       "</div>"
      ],
      "text/plain": [
       "   Bidder_Tendency  Bidding_Ratio  Successive_Outbidding  Last_Bidding  \\\n",
       "0         0.200000       0.400000                    0.0      0.000028   \n",
       "1         0.024390       0.200000                    0.0      0.013123   \n",
       "2         0.142857       0.200000                    0.0      0.003042   \n",
       "3         0.100000       0.200000                    0.0      0.097477   \n",
       "4         0.051282       0.222222                    0.0      0.001318   \n",
       "\n",
       "   Auction_Bids  Starting_Price_Average  Early_Bidding  Winning_Ratio  \\\n",
       "0           0.0                0.993593       0.000028       0.666667   \n",
       "1           0.0                0.993593       0.013123       0.944444   \n",
       "2           0.0                0.993593       0.003042       1.000000   \n",
       "3           0.0                0.993593       0.097477       1.000000   \n",
       "4           0.0                0.000000       0.001242       0.500000   \n",
       "\n",
       "   Auction_Duration  Class  \n",
       "0                 5      0  \n",
       "1                 5      0  \n",
       "2                 5      0  \n",
       "3                 5      0  \n",
       "4                 7      0  "
      ]
     },
     "execution_count": 19,
     "metadata": {},
     "output_type": "execute_result"
    }
   ],
   "source": [
    "df1.head()"
   ]
  },
  {
   "cell_type": "code",
   "execution_count": 20,
   "id": "0ecb8d50",
   "metadata": {},
   "outputs": [
    {
     "data": {
      "text/html": [
       "<div>\n",
       "<style scoped>\n",
       "    .dataframe tbody tr th:only-of-type {\n",
       "        vertical-align: middle;\n",
       "    }\n",
       "\n",
       "    .dataframe tbody tr th {\n",
       "        vertical-align: top;\n",
       "    }\n",
       "\n",
       "    .dataframe thead th {\n",
       "        text-align: right;\n",
       "    }\n",
       "</style>\n",
       "<table border=\"1\" class=\"dataframe\">\n",
       "  <thead>\n",
       "    <tr style=\"text-align: right;\">\n",
       "      <th></th>\n",
       "      <th>0</th>\n",
       "      <th>1</th>\n",
       "    </tr>\n",
       "  </thead>\n",
       "  <tbody>\n",
       "    <tr>\n",
       "      <th>Bidder_Tendency</th>\n",
       "      <td>0.122403</td>\n",
       "      <td>0.310979</td>\n",
       "    </tr>\n",
       "    <tr>\n",
       "      <th>Bidding_Ratio</th>\n",
       "      <td>0.101775</td>\n",
       "      <td>0.344268</td>\n",
       "    </tr>\n",
       "    <tr>\n",
       "      <th>Successive_Outbidding</th>\n",
       "      <td>0.016649</td>\n",
       "      <td>0.832593</td>\n",
       "    </tr>\n",
       "    <tr>\n",
       "      <th>Last_Bidding</th>\n",
       "      <td>0.450286</td>\n",
       "      <td>0.570463</td>\n",
       "    </tr>\n",
       "    <tr>\n",
       "      <th>Auction_Bids</th>\n",
       "      <td>0.227638</td>\n",
       "      <td>0.264797</td>\n",
       "    </tr>\n",
       "    <tr>\n",
       "      <th>Starting_Price_Average</th>\n",
       "      <td>0.465605</td>\n",
       "      <td>0.533181</td>\n",
       "    </tr>\n",
       "    <tr>\n",
       "      <th>Early_Bidding</th>\n",
       "      <td>0.423630</td>\n",
       "      <td>0.489674</td>\n",
       "    </tr>\n",
       "    <tr>\n",
       "      <th>Winning_Ratio</th>\n",
       "      <td>0.308242</td>\n",
       "      <td>0.865322</td>\n",
       "    </tr>\n",
       "    <tr>\n",
       "      <th>Auction_Duration</th>\n",
       "      <td>4.597060</td>\n",
       "      <td>4.765926</td>\n",
       "    </tr>\n",
       "  </tbody>\n",
       "</table>\n",
       "</div>"
      ],
      "text/plain": [
       "                               0         1\n",
       "Bidder_Tendency         0.122403  0.310979\n",
       "Bidding_Ratio           0.101775  0.344268\n",
       "Successive_Outbidding   0.016649  0.832593\n",
       "Last_Bidding            0.450286  0.570463\n",
       "Auction_Bids            0.227638  0.264797\n",
       "Starting_Price_Average  0.465605  0.533181\n",
       "Early_Bidding           0.423630  0.489674\n",
       "Winning_Ratio           0.308242  0.865322\n",
       "Auction_Duration        4.597060  4.765926"
      ]
     },
     "execution_count": 20,
     "metadata": {},
     "output_type": "execute_result"
    }
   ],
   "source": [
    "class_feature_means = pd.DataFrame() \n",
    "for c, rows in df1.groupby('Class'):\n",
    "    rows = rows.drop([\"Class\"], axis=1)\n",
    "    class_feature_means[c] = rows.mean()\n",
    "class_feature_means"
   ]
  },
  {
   "cell_type": "markdown",
   "id": "a04455a3",
   "metadata": {},
   "source": [
    "##### Data Preparation"
   ]
  },
  {
   "cell_type": "markdown",
   "id": "aa81aa27",
   "metadata": {},
   "source": [
    "Data preparation consists of collecting, cleaning and transforming the data, so that it can be processed and qualified. It usually involves reformatting, correcting, and combining sets of information so that they are enriched and validated. In other words, it organizes and adjusts the data so that they gain meaning and can be used in decision making.\n",
    "\n",
    "One of the main goals of data preparation is to ensure that the resulting information will be accurate and consistent. Thus, allowing a valid and realistic analysis.\n",
    "\n",
    "As the dataset presents a variable with a different scale from the other features, in order to have a better performance of the model and avoid overfitting, we will transform the variables so that they are all on the same scale, that is, standardized. In this study, the minmax method was used, as the other variables were already on the scale between 0 and 1, so this method was chosen to standardize the features.\n",
    "\n",
    "In this study we will use dimensionality reduction techniques. Dimensionality reduction is used to reduce the number of features without losing important information. Here we will use the PCA and LDA techniques and compare the results of the two techniques, that is, which one had the best performance in this study.\n",
    "\n",
    "How we can see in the Exploratory Data Analysis, the dataset is imbalanced, so we need to apply some technique for balanced the dataset, because if we work with imbalanced dataset, we can have a bias results, so to avoid that, we need to balance the dataset. For this we used SMOTE technique, that is a technique that can be used for oversampling data. This technique creates new synthetics oversampling through substitutions. SMOTE introduces synthetic examples in the line segments for oversampling the minority class samples. It joins every minority class that is close to its neighbors. The choice of neighbors from the nearest neighbors is random. The number depends on how much oversampling the model needs.\n",
    "In this case, before we had 5646 observations Class = 0 and 675 observations Class = 1, after apply the SMOTE technique, 5646 observations Class = 0 and 5646 observations Class = 1.\n",
    "Principal Component Analysis (PCA) is an unsupervised multivariate analysis technique that can be used to analyze interrelationships between a large number of variables and explain these variables in small dimension.\n",
    "\n",
    "Starting from the premise that the variables show a certain degree of association between them, it is desirable to replace them with uncorrelated variables that contain almost all the information in the original data, especially if components is much smaller than the original data. This feature would facilitate the description of the data, provided that the loss of information was as little as possible.\n",
    "\n",
    "Linear Discriminant Analysis (LDA) is a supervised dimensionality reduction technique. It is used to model differences in groups, that is, to separate two or more classes. It is used to project features in a higher dimensional space into a lower dimensional space.\n",
    "\n",
    "PCA ignore the class label while LDA consider the class label.\n",
    "\n",
    "With the application of the PCA, we had a reduction in the size from 9 to 7 with a variance of 95%\n",
    "\n",
    "The LDA always reduced by one from number of classes we have represented as a target feature. LDA creates a clear separation between classes. In this study how we have only 2 classes the LDA presents only 1 component.\n",
    "\n",
    "Analysing the plots with the PCA and LDA results we can visualize that the LDA have a clear separation between classes does not present this separation.\n",
    "\n",
    "How LDA presents a clear separation between the classes we will use the LDA to apply the Machine Learning models.\n",
    "\n",
    "After deciding that, we need to split our data between training and testing because when the model is fitted to predict, it is important to know the model predictive ability, in addition to the data it was trained on. For this reason, it is common to separate the dataset into training and testing.\n",
    "\n",
    "In this study we spitted the dataset with 80% training and 20% testing.\n",
    "\n",
    "After applying the techniques mentioned above, the dataset is ready to apply models.\n",
    "\n",
    "All analyses are presented in the codes below."
   ]
  },
  {
   "cell_type": "code",
   "execution_count": 21,
   "id": "0ff60515",
   "metadata": {},
   "outputs": [],
   "source": [
    "df_no_label = df1.drop(columns = [\"Class\"])"
   ]
  },
  {
   "cell_type": "code",
   "execution_count": 22,
   "id": "850e6bca",
   "metadata": {},
   "outputs": [],
   "source": [
    "df_minmax = preproc.minmax_scale(df_no_label)"
   ]
  },
  {
   "cell_type": "code",
   "execution_count": 23,
   "id": "52c67e4a",
   "metadata": {},
   "outputs": [],
   "source": [
    "X = df_minmax\n",
    "y = df1['Class']"
   ]
  },
  {
   "cell_type": "code",
   "execution_count": 24,
   "id": "66524928",
   "metadata": {},
   "outputs": [
    {
     "name": "stdout",
     "output_type": "stream",
     "text": [
      "Original dataset shape Counter({0: 5646, 1: 675})\n",
      "Resampled dataset shape Counter({0: 5646, 1: 5646})\n"
     ]
    }
   ],
   "source": [
    "sm = SMOTE(random_state = 42)\n",
    "X_res, y_res = sm.fit_resample(X, y)\n",
    "print('Original dataset shape %s' % Counter(y))\n",
    "print('Resampled dataset shape %s' % Counter(y_res))"
   ]
  },
  {
   "cell_type": "code",
   "execution_count": 25,
   "id": "6dc95e7a",
   "metadata": {},
   "outputs": [
    {
     "data": {
      "text/plain": [
       "7"
      ]
     },
     "execution_count": 25,
     "metadata": {},
     "output_type": "execute_result"
    }
   ],
   "source": [
    "pca = PCA(0.95)\n",
    "X_pca = pca.fit_transform(X_res,y_res)\n",
    "pca.n_components_"
   ]
  },
  {
   "cell_type": "code",
   "execution_count": 26,
   "id": "fa634622",
   "metadata": {
    "scrolled": true
   },
   "outputs": [
    {
     "data": {
      "image/png": "[encoded data removed]",
      "text/plain": [
       "<Figure size 432x288 with 1 Axes>"
      ]
     },
     "metadata": {},
     "output_type": "display_data"
    }
   ],
   "source": [
    "pca = PCA(0.95)\n",
    "pca.fit(X_res,y_res) \n",
    "plt.plot(np.cumsum(pca.explained_variance_ratio_)) \n",
    "plt.xlabel('number of components') \n",
    "plt.ylabel('cumulative explained variance'); "
   ]
  },
  {
   "cell_type": "code",
   "execution_count": 27,
   "id": "550451a5",
   "metadata": {},
   "outputs": [],
   "source": [
    "var_plot  = pd.DataFrame(y_res)"
   ]
  },
  {
   "cell_type": "code",
   "execution_count": 28,
   "id": "942a95c6",
   "metadata": {},
   "outputs": [],
   "source": [
    "var_plot['plot'] = 0"
   ]
  },
  {
   "cell_type": "code",
   "execution_count": 29,
   "id": "9e818d95",
   "metadata": {},
   "outputs": [],
   "source": [
    "plot = var_plot['plot']"
   ]
  },
  {
   "cell_type": "code",
   "execution_count": 30,
   "id": "7283e64c",
   "metadata": {},
   "outputs": [
    {
     "data": {
      "image/png": "[encoded data removed]",
      "text/plain": [
       "<Figure size 432x288 with 1 Axes>"
      ]
     },
     "metadata": {},
     "output_type": "display_data"
    }
   ],
   "source": [
    "plt.xlabel(\"PC1\")\n",
    "plt.title(\"Principal Component Analysis\")\n",
    "plt.scatter(X_pca[:,0],\n",
    "           plot,\n",
    "           c=y_res,\n",
    "           cmap=\"rainbow\",\n",
    "           alpha=0.7,\n",
    "           edgecolors=\"b\");"
   ]
  },
  {
   "cell_type": "code",
   "execution_count": 31,
   "id": "5f777e00",
   "metadata": {},
   "outputs": [],
   "source": [
    "lda = LinearDiscriminantAnalysis()\n",
    "X_lda =lda.fit_transform(X_res,y_res)"
   ]
  },
  {
   "cell_type": "code",
   "execution_count": 32,
   "id": "8465c8ed",
   "metadata": {},
   "outputs": [
    {
     "data": {
      "text/plain": [
       "array([1.])"
      ]
     },
     "execution_count": 32,
     "metadata": {},
     "output_type": "execute_result"
    }
   ],
   "source": [
    "lda.explained_variance_ratio_"
   ]
  },
  {
   "cell_type": "code",
   "execution_count": 33,
   "id": "cf3238c8",
   "metadata": {},
   "outputs": [
    {
     "data": {
      "image/png": "[encoded data removed]",
      "text/plain": [
       "<Figure size 432x288 with 1 Axes>"
      ]
     },
     "metadata": {},
     "output_type": "display_data"
    }
   ],
   "source": [
    "plt.xlabel(\"LD1\")\n",
    "plt.title(\"Linear Discriminant Analysis\")\n",
    "plt.scatter(X_lda[:,0], \n",
    "            plot,\n",
    "           c=y_res,\n",
    "           cmap=\"rainbow\",\n",
    "           alpha=0.7,\n",
    "           edgecolors=\"b\");"
   ]
  },
  {
   "cell_type": "code",
   "execution_count": 34,
   "id": "a15c9c81",
   "metadata": {},
   "outputs": [],
   "source": [
    "# Splitting the dataset into the Training set and Test set\n",
    "X_train, X_test, y_train, y_test = train_test_split(X_lda, y_res, test_size = 0.2, random_state=42)"
   ]
  },
  {
   "cell_type": "markdown",
   "id": "6e575a15",
   "metadata": {},
   "source": [
    "### 3. Modelling"
   ]
  },
  {
   "cell_type": "markdown",
   "id": "e84ae6be",
   "metadata": {},
   "source": [
    "Supervised learning is when the dataset have input feature (x) and an output feature (Y) and you use an algorithm to learn the mapping function from the input to the output (Brownlee, 2016).\n",
    "\n",
    "Unsupervised learning is when the dataset only has input features (X) and no corresponding output feature. The goal of unsupervised learning is to model the underlying structure or distribution in the data to learn more about them (Brownlee, 2016).\n",
    "\n",
    "As our dataset has input features and output feature, we will use a supervised learning in this study.\n",
    "\n",
    "Supervised learning is grouped into Regression and Classification. A Regression method is when the output feature is a continue numeric value and Classification method is when the output feature is a categorical feature.\n",
    "\n",
    "The output feature in this study is a feature Class that is a categorical feature, thus, we are going to use Classification method.\n",
    "\n",
    "To verify which model presented a better fit, we adjusted the models KNN, Decision Tree, Random Forest, SVM and Logistic Regression and we compared the scores. \n",
    "\n",
    "KKN algorithm tries to find the closest K points to a specific point in order to infer the predict value.\n",
    "\n",
    "The Random Forest algorithm creates multiple decision trees and combines them to obtain a more accurate and more stable prediction.\n",
    "\n",
    "Decision Tree Classification establishes nodes that are related to each other by a hierarchy. \n",
    "\n",
    "Support Vector Classification seeks to find the best hyperplane for a given data set whose classes are linearly separable. \n",
    "\n",
    "Logistic Regression studies the relationship between the dependent variable and one or more independent variables. This relationship is represented by means of a mathematical model, that is, by an equation that associates the dependent variable with the independent variables. \n",
    "\n",
    "The models that present the best scores were KNN and Logistic Regression KNN presents a score 0.9876 and Logistic Regression score 0.9845.\n",
    "As they were performing well, applying tuning hyperparameter showed improvement, but it was very small.\n",
    "\n",
    "All models perform very well. The KNN score was 0.9880 and Logistic Regression score was 0.9867.\n",
    "\n",
    "Analysing the confusion matrix, we can see that 21 values were predicted as False Positive and only 6 values were predicted as False Negative in KNN algorithm. In Logistic Regression 24 values were predicted as False Positive and only 6 values were predicted as False Negative. Thus, KNN perform better than Logistic Regression.\n",
    "\n",
    "We could see that in both models, the cross validation performing very close in training and test it means the model is not underfitted or overfitted\n",
    "\n",
    "\n",
    "All analyses are presented in the codes below."
   ]
  },
  {
   "cell_type": "code",
   "execution_count": 35,
   "id": "fd7261d1",
   "metadata": {},
   "outputs": [],
   "source": [
    "classifiers = {\n",
    "    \"KNN\"       : KNeighborsClassifier(), \n",
    "    \"Decision Tree\": DecisionTreeClassifier(), \n",
    "    \"Random Forest\": RandomForestClassifier(), \n",
    "    \"SVM\"   : SVC(), \n",
    "    \"LogisticRegr\" : LogisticRegression()\n",
    "}"
   ]
  },
  {
   "cell_type": "code",
   "execution_count": 36,
   "id": "ed36ae17",
   "metadata": {},
   "outputs": [
    {
     "name": "stdout",
     "output_type": "stream",
     "text": [
      "KNN            | score = 0.9876 | time = 0.0050s/0.2190s\n",
      "Decision Tree  | score = 0.9810 | time = 0.0045s/0.0386s\n",
      "Random Forest  | score = 0.9810 | time = 0.4445s/1.7297s\n",
      "SVM            | score = 0.9845 | time = 0.1765s/0.7390s\n",
      "LogisticRegr   | score = 0.9845 | time = 0.0164s/0.0313s\n"
     ]
    }
   ],
   "source": [
    "results = []\n",
    "names = []\n",
    "nfast = 6      \n",
    "head = list(classifiers.items())[:nfast]\n",
    "\n",
    "for name, classifier in head:\n",
    "    start = time()\n",
    "    classifier.fit(X_train, y_train)\n",
    "    train_time = time() - start\n",
    "    start = time()\n",
    "    score = classifier.score(X_test, y_test)\n",
    "    cv_results = cross_val_score(classifier, X_train, y_train, scoring='accuracy')\n",
    "    results.append(cv_results)\n",
    "    names.append(name)\n",
    "    score_time = time()-start\n",
    "    print(\"{:<15}| score = {:.4f} | time = {:,.4f}s/{:,.4f}s\".format(name, score, train_time, score_time))"
   ]
  },
  {
   "cell_type": "code",
   "execution_count": 37,
   "id": "d16d1ecf",
   "metadata": {},
   "outputs": [
    {
     "data": {
      "image/png": "[encoded data removed]",
      "text/plain": [
       "<Figure size 432x288 with 1 Axes>"
      ]
     },
     "metadata": {},
     "output_type": "display_data"
    }
   ],
   "source": [
    "plt.boxplot(results, labels=names)\n",
    "plt.title('Algorithm Comparison')\n",
    "plt.show()"
   ]
  },
  {
   "cell_type": "markdown",
   "id": "f9f3ecf2",
   "metadata": {},
   "source": [
    "##### Logistic Regression"
   ]
  },
  {
   "cell_type": "code",
   "execution_count": 38,
   "id": "cdb11301",
   "metadata": {},
   "outputs": [],
   "source": [
    "# Tuning hyper-parameters\n",
    "solvers = ['newton-cg', 'lbfgs', 'liblinear', 'sag', 'saga']\n",
    "penalty = ['none','l1','l2']\n",
    "c_values = [100, 10, 1.0, 0.1, 0.01]"
   ]
  },
  {
   "cell_type": "code",
   "execution_count": 39,
   "id": "bd038e6b",
   "metadata": {},
   "outputs": [],
   "source": [
    "# Grid search cross validation\n",
    "logistic_regression = LogisticRegression()\n",
    "grid = dict(solver=solvers,penalty=penalty,C=c_values)\n",
    "grid_search = GridSearchCV(estimator=logistic_regression, param_grid=grid, scoring='accuracy',error_score=0)\n",
    "grid_result = grid_search.fit(X_lda, y_res)"
   ]
  },
  {
   "cell_type": "code",
   "execution_count": 40,
   "id": "79e43cbb",
   "metadata": {},
   "outputs": [
    {
     "name": "stdout",
     "output_type": "stream",
     "text": [
      "Best: 0.986893 using {'C': 0.01, 'penalty': 'l1', 'solver': 'liblinear'}\n"
     ]
    }
   ],
   "source": [
    "print(\"Best: %f using %s\" % (grid_result.best_score_, grid_result.best_params_))\n",
    "means = grid_result.cv_results_['mean_test_score']\n",
    "stds = grid_result.cv_results_['std_test_score']\n",
    "params = grid_result.cv_results_['params']"
   ]
  },
  {
   "cell_type": "code",
   "execution_count": 41,
   "id": "056566c8",
   "metadata": {},
   "outputs": [],
   "source": [
    "logreg = LogisticRegression(C=0.01, penalty='l1', solver='liblinear')\n",
    "logreg.fit(X_train, y_train)\n",
    "y_pred_log = logreg.predict(X_test)"
   ]
  },
  {
   "cell_type": "code",
   "execution_count": 42,
   "id": "273514a5",
   "metadata": {},
   "outputs": [
    {
     "name": "stdout",
     "output_type": "stream",
     "text": [
      "              precision    recall  f1-score   support\n",
      "\n",
      "           0       0.99      0.98      0.99      1143\n",
      "           1       0.98      0.99      0.99      1116\n",
      "\n",
      "    accuracy                           0.99      2259\n",
      "   macro avg       0.99      0.99      0.99      2259\n",
      "weighted avg       0.99      0.99      0.99      2259\n",
      "\n",
      "Text(0.5, 1.0, 'Confusion Matrix - Logistic Regression')\n",
      "0.9867197875166003\n"
     ]
    },
    {
     "data": {
      "image/png": "[encoded data removed]",
      "text/plain": [
       "<Figure size 432x288 with 1 Axes>"
      ]
     },
     "metadata": {},
     "output_type": "display_data"
    }
   ],
   "source": [
    "print(classification_report(y_test, y_pred_log))\n",
    "print(sns.heatmap(confusion_matrix(y_test, y_pred_log), annot=True, fmt='.4g',                 \n",
    "                 xticklabels=['Normal behaviour (0 class)','Otherwise (1 class)'],                \n",
    "                 yticklabels=['Normal behaviour (0 class)','Otherwise (1 class)'],                  \n",
    "                 cbar=False, cmap='BuPu').set_title('Confusion Matrix - Logistic Regression'))\n",
    "print(accuracy_score(y_test, y_pred_log));"
   ]
  },
  {
   "cell_type": "code",
   "execution_count": 43,
   "id": "c2ef67b8",
   "metadata": {},
   "outputs": [
    {
     "name": "stdout",
     "output_type": "stream",
     "text": [
      "Training score - Logistic Regression: 0.9870\n",
      "Testing score - Logistic Regression: 0.9867\n"
     ]
    }
   ],
   "source": [
    "print('Training score - Logistic Regression: {:.4f}'.format(logreg.score(X_train,y_train)))\n",
    "print('Testing score - Logistic Regression: {:.4f}'.format(logreg.score(X_test,y_test)))"
   ]
  },
  {
   "cell_type": "markdown",
   "id": "0a9f32a6",
   "metadata": {},
   "source": [
    "##### KNN "
   ]
  },
  {
   "cell_type": "code",
   "execution_count": 44,
   "id": "c11dbf0c",
   "metadata": {},
   "outputs": [],
   "source": [
    "knn = KNeighborsClassifier()\n",
    "k_range = list(range(1, 50))\n",
    "param_grid = dict(n_neighbors=k_range)\n",
    "  \n",
    "# defining parameter range\n",
    "grid = GridSearchCV(knn, param_grid, scoring='accuracy')\n",
    "  \n",
    "# fitting the model for grid search\n",
    "grid_search=grid.fit(X_train, y_train)"
   ]
  },
  {
   "cell_type": "code",
   "execution_count": 45,
   "id": "0c13c42f",
   "metadata": {},
   "outputs": [
    {
     "name": "stdout",
     "output_type": "stream",
     "text": [
      "{'n_neighbors': 19}\n"
     ]
    }
   ],
   "source": [
    "print(grid_search.best_params_)"
   ]
  },
  {
   "cell_type": "code",
   "execution_count": 46,
   "id": "7f293e55",
   "metadata": {},
   "outputs": [],
   "source": [
    "knn = KNeighborsClassifier(n_neighbors=19)\n",
    "knn.fit(X_train, y_train)\n",
    "y_pred_knn=knn.predict(X_test) "
   ]
  },
  {
   "cell_type": "code",
   "execution_count": 47,
   "id": "2a89ef30",
   "metadata": {},
   "outputs": [
    {
     "name": "stdout",
     "output_type": "stream",
     "text": [
      "              precision    recall  f1-score   support\n",
      "\n",
      "           0       0.99      0.98      0.99      1143\n",
      "           1       0.98      0.99      0.99      1116\n",
      "\n",
      "    accuracy                           0.99      2259\n",
      "   macro avg       0.99      0.99      0.99      2259\n",
      "weighted avg       0.99      0.99      0.99      2259\n",
      "\n",
      "Text(0.5, 1.0, 'Confusion Matrix - KNN')\n",
      "0.9880478087649402\n"
     ]
    },
    {
     "data": {
      "image/png": "[encoded data removed]",
      "text/plain": [
       "<Figure size 432x288 with 1 Axes>"
      ]
     },
     "metadata": {},
     "output_type": "display_data"
    }
   ],
   "source": [
    "print(classification_report(y_test, y_pred_knn))\n",
    "print(sns.heatmap(confusion_matrix(y_test, y_pred_knn), annot=True, fmt='.4g',                 \n",
    "                 xticklabels=['Normal behaviour (0 class)','Otherwise (1 class)'],                \n",
    "                 yticklabels=['Normal behaviour (0 class)','Otherwise (1 class)'],                  \n",
    "                 cbar=False, cmap='BuPu').set_title('Confusion Matrix - KNN'))\n",
    "print(accuracy_score(y_test, y_pred_knn));"
   ]
  },
  {
   "cell_type": "code",
   "execution_count": 48,
   "id": "2a08b55f",
   "metadata": {},
   "outputs": [
    {
     "name": "stdout",
     "output_type": "stream",
     "text": [
      "Training score - KNN: 0.9876\n",
      "Testing score - KNN: 0.9880\n"
     ]
    }
   ],
   "source": [
    "print('Training score - KNN: {:.4f}'.format(knn.score(X_train,y_train)))\n",
    "print('Testing score - KNN: {:.4f}'.format(knn.score(X_test,y_test)))"
   ]
  },
  {
   "cell_type": "code",
   "execution_count": 49,
   "id": "399fccd5",
   "metadata": {},
   "outputs": [],
   "source": [
    "models = {\n",
    "    \"KNN\"       : KNeighborsClassifier(n_neighbors=19), \n",
    "    \"LogisticRegr\" : LogisticRegression(C=0.01, penalty='l1', solver='liblinear')\n",
    "}"
   ]
  },
  {
   "cell_type": "code",
   "execution_count": 50,
   "id": "02d7d4b4",
   "metadata": {},
   "outputs": [
    {
     "name": "stdout",
     "output_type": "stream",
     "text": [
      "KNN            | score = 0.9880 | time = 0.0000s/0.2314s\n",
      "LogisticRegr   | score = 0.9867 | time = 0.0000s/0.0231s\n"
     ]
    }
   ],
   "source": [
    "results = []\n",
    "results_test = []\n",
    "names = []\n",
    "nfast = 3      \n",
    "head = list(models.items())[:nfast]\n",
    "\n",
    "for name, model in head:\n",
    "    start = time()\n",
    "    model.fit(X_train, y_train)\n",
    "    train_time = time() - start\n",
    "    start = time()\n",
    "    score = model.score(X_test, y_test)\n",
    "    cv_results = cross_val_score(model, X_train, y_train, scoring='accuracy')\n",
    "    results.append(cv_results)\n",
    "    names.append(name)\n",
    "    score_time = time()-start\n",
    "    print(\"{:<15}| score = {:.4f} | time = {:,.4f}s/{:,.4f}s\".format(name, score, train_time, score_time))"
   ]
  },
  {
   "cell_type": "code",
   "execution_count": 51,
   "id": "0bfb7f39",
   "metadata": {},
   "outputs": [
    {
     "data": {
      "image/png": "[encoded data removed]",
      "text/plain": [
       "<Figure size 432x288 with 1 Axes>"
      ]
     },
     "metadata": {},
     "output_type": "display_data"
    }
   ],
   "source": [
    "plt.boxplot(results, labels=names)\n",
    "plt.title('Algorithm Comparison')\n",
    "plt.show()"
   ]
  },
  {
   "cell_type": "markdown",
   "id": "a75535ff",
   "metadata": {},
   "source": [
    "###    4. Conclusion"
   ]
  },
  {
   "cell_type": "markdown",
   "id": "072ed28f",
   "metadata": {},
   "source": [
    "After developing this work and analysing all the models developed, I can conclude based on the adherence results of the models that for among the 3 models the one that presented the best result was the KNN, but presents few difference between them.\n",
    "\n",
    "The hyperparameters showed a small improvement in both models, but how the both models were performed very well the improvement is not high.\n",
    "\n",
    "How we could see that the both models performing very close in training and testing in cross validation, then we can conclude that the models can help the company detect possible future shill bidding.\n"
   ]
  },
  {
   "cell_type": "markdown",
   "id": "de56ba36",
   "metadata": {},
   "source": [
    "### Appendix"
   ]
  },
  {
   "cell_type": "markdown",
   "id": "d64284df",
   "metadata": {},
   "source": [
    "Data Dictionary\n",
    "\n",
    "•\tRecord ID: Unique identifier of a record in the dataset.\n",
    "\n",
    "•\tAuction ID: Unique identifier of an auction.\n",
    "\n",
    "•\tBidder ID: Unique identifier of a bidder.\n",
    "\n",
    "•\tBidder Tendency: A shill bidder participates exclusively in auctions of few sellers rather than a diversified lot. This is a collusive act involving the fraudulent seller and an accomplice.\n",
    "\n",
    "•\tBidding Ratio: A shill bidder participates more frequently to raise the auction price and attract higher bids from legitimate participants.\n",
    "\n",
    "•\tSuccessive Outbidding: A shill bidder successively outbids himself even though he is the current winner to increase the price gradually with small consecutive increments.\n",
    "\n",
    "•\tLast Bidding: A shill bidder becomes inactive at the last stage of the auction (more than 90% of the auction duration) to avoid winning the auction.\n",
    "\n",
    "•\tAuction Bids: Auctions with SB activities tend to have a much higher number of bids than the average of bids in concurrent auctions.\n",
    "\n",
    "•\tAuction Starting Price: a shill bidder usually offers a small starting price to attract legitimate bidders into the auction.\n",
    "\n",
    "•\tEarly Bidding: A shill bidder tends to bid pretty early in the auction (less than 25% of the auction duration) to get the attention of auction users.\n",
    "\n",
    "•\tWinning Ratio: A shill bidder competes in many auctions but hardly wins any auctions.\n",
    "\n",
    "•\tAuction Duration: How long an auction lasted.\n",
    "\n",
    "•\tClass: 0 for normal behaviour bidding; 1 for otherwise."
   ]
  }
 ],
 "metadata": {
  "kernelspec": {
   "display_name": "Python 3 (ipykernel)",
   "language": "python",
   "name": "python3"
  },
  "language_info": {
   "codemirror_mode": {
    "name": "ipython",
    "version": 3
   },
   "file_extension": ".py",
   "mimetype": "text/x-python",
   "name": "python",
   "nbconvert_exporter": "python",
   "pygments_lexer": "ipython3",
   "version": "3.9.13"
  }
 },
 "nbformat": 4,
 "nbformat_minor": 5
}
